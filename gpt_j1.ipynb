{
  "nbformat": 4,
  "nbformat_minor": 0,
  "metadata": {
    "colab": {
      "provenance": [],
      "authorship_tag": "ABX9TyMxlTqgDko3GnO9TpGrEw9L",
      "include_colab_link": true
    },
    "kernelspec": {
      "name": "python3",
      "display_name": "Python 3"
    },
    "language_info": {
      "name": "python"
    }
  },
  "cells": [
    {
      "cell_type": "markdown",
      "metadata": {
        "id": "view-in-github",
        "colab_type": "text"
      },
      "source": [
        "<a href=\"https://colab.research.google.com/github/torbghancity/Mypython/blob/main/gpt_j1.ipynb\" target=\"_parent\"><img src=\"https://colab.research.google.com/assets/colab-badge.svg\" alt=\"Open In Colab\"/></a>"
      ]
    },
    {
      "cell_type": "code",
      "execution_count": 5,
      "metadata": {
        "colab": {
          "base_uri": "https://localhost:8080/"
        },
        "id": "rCxQImxfWsmu",
        "outputId": "6afd276c-e9ce-450b-cb91-6e0df3d2ac95"
      },
      "outputs": [
        {
          "output_type": "stream",
          "name": "stdout",
          "text": [
            "بپرس : بیت پر مخاطب دیوان حافظ\n",
            "از روزی که وارد بیت حافظ شدم\n",
            "همه عیب و کوششم به تباه شد\n",
            "گفتم دیگر به جز وی نبینم\n",
            "همه صفت و عجبم به روا شد\n"
          ]
        }
      ],
      "source": [
        "import requests as req\n",
        "\n",
        "soal = input (\"بپرس : \")\n",
        "\n",
        "out = req.get(\"http://5.161.91.18/chat?text=\" + soal)\n",
        "\n",
        "print(out.json())"
      ]
    }
  ]
}